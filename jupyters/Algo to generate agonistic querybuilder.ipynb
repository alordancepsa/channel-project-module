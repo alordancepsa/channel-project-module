{
 "cells": [
  {
   "cell_type": "code",
   "execution_count": 10,
   "id": "cultural-prairie",
   "metadata": {},
   "outputs": [
    {
     "name": "stdout",
     "output_type": "stream",
     "text": [
      "('SELECT * FROM table WHERE  ( first_name = :first_name ) OR ( ( last_name != :last_name ) OR ( middle_name = :middle_name ) ) ', {'first_name': 'Dixie', 'last_name': 'Smith', 'middle_name': 'Sam'})\n"
     ]
    }
   ],
   "source": [
    "input2 = {\n",
    "  \"endpoint\": \"rfc\",\n",
    "  \"expression\": [\n",
    "    {\n",
    "      \"field\": \"first_name\",\n",
    "      \"operator\": \"EQ\",\n",
    "      \"value\": \"Dixie\"\n",
    "    },\n",
    "    \"OR\",\n",
    "    [\n",
    "      {\n",
    "        \"field\": \"last_name\",\n",
    "        \"operator\": \"NEQ\",\n",
    "        \"value\": \"Smith\"\n",
    "      },\n",
    "      \"OR\",\n",
    "      {\n",
    "        \"field\": \"middle_name\",\n",
    "        \"operator\": \"EQ\",\n",
    "        \"value\": \"Sam\"\n",
    "      }\n",
    "    ]\n",
    "  ],\n",
    "  \"limit\": 2\n",
    "}\n",
    "\n",
    "SQL_STR = str\n",
    "SQL_INT = int\n",
    "SQL_BOOLEAN = bool\n",
    "\n",
    "OPERATOR = ['OR', 'AND']\n",
    "SPECIAL_OPERATOR = ['limit']\n",
    "\n",
    "SQL_OPERATORS={'EQ':'=',\n",
    "               'NEQ':'>='}\n",
    "\n",
    "def json_to_where(json_where, param):\n",
    "\n",
    "    if 'expression' in json_where:\n",
    "        return json_to_where(json_where['expression'],{})\n",
    "\n",
    "    if isinstance(json_where, list):\n",
    "        ret = \"\"\n",
    "        for clause in json_where:\n",
    "            if clause in OPERATOR:\n",
    "                print(\"operator\")\n",
    "                ret += ' {()} '.format(json_to_where,{})\n",
    "            elif clause in SPECIAL_OPERATOR:\n",
    "                print(\"special\")\n",
    "            else:\n",
    "                ret += json_to_where(clause, param)\n",
    "#        print(len(json_where), json_where)\n",
    "        # if len(json_where)>2:\n",
    "        #    ret+=')'\n",
    "        return ret\n",
    "    if isinstance(json_where, dict):\n",
    "        return ' {} {} {}'.format(json_where['field'], SQL_OPERATORS[json_where['operator']], json_where['value'])\n",
    "    if isinstance(json_where, str):\n",
    "        return \" {} \".format(json_where) # json_where\n",
    "\n",
    "    # return \"frist_name = 'Dixie' AND (last_name != 'Smith' OR middle_name = 'Sam') limit 2\"\n",
    "LOGICAL_OPERATORS = (\"AND\", \"OR\")\n",
    "\n",
    "COMPARISON_OPERATORS = {\n",
    "    \"LT\": \"<\",\n",
    "    \"GT\": \">\",\n",
    "    \"LTE\": \"<=\",\n",
    "    \"GTE\": \">=\",\n",
    "    \"EQ\": \"=\",\n",
    "    \"NEQ\": \"!=\"\n",
    "}\n",
    "\n",
    "def process(data, parameters={}):\n",
    "    \"\"\"\n",
    "    :param data: JSON Object (dict). \n",
    "    :param parameters: dict.\n",
    "    :return: where clause (str) built from data\n",
    "    \"\"\"\n",
    "    where_clause = \"\"\n",
    "    if isinstance(data, list):\n",
    "        for part in data:\n",
    "            if part not in LOGICAL_OPERATORS:\n",
    "                where_clause += \" ({}) \".format(process(part, parameters))\n",
    "            else:\n",
    "                where_clause += process(part, parameters)\n",
    "    elif isinstance(data, dict):\n",
    "        # where_clause += \" {} {} %({})s \".format(data[\"field\"], COMPARISON_OPERATORS[data[\"operator\"]], data[\"field\"])\n",
    "        where_clause += \" {} {} :{} \".format(data[\"field\"], COMPARISON_OPERATORS[data[\"operator\"]], data[\"field\"])\n",
    "        parameters[data[\"field\"]] = data[\"value\"]\n",
    "    elif isinstance(data, str):\n",
    "        return data\n",
    "    return where_clause\n",
    "\n",
    "\n",
    "def main():\n",
    "    expression = input2[\"expression\"]\n",
    "    parameters = {}\n",
    "    where_clause = process(expression, parameters)\n",
    "\n",
    "    return \"SELECT * FROM table WHERE {}\".format(where_clause), parameters\n",
    "\n",
    "\n",
    "if __name__ == '__main__':\n",
    "    print(main())\n",
    "    # print(\"END\", json_to_where(input2,{}))"
   ]
  },
  {
   "cell_type": "code",
   "execution_count": 27,
   "id": "electrical-filing",
   "metadata": {},
   "outputs": [],
   "source": [
    "input2 = {\n",
    "  \n",
    "  \"expression\": [\n",
    "        {\n",
    "          \"field\": \"first_name\",\n",
    "          \"operator\": \"EQ\",\n",
    "          \"value\": \"Dixie\"\n",
    "        },\n",
    "        \"OR\",\n",
    "        [\n",
    "            {\n",
    "                \"field\": \"last_name\",\n",
    "                \"operator\": \"NEQ\",\n",
    "                \"value\": 0.1\n",
    "              },\n",
    "            \"OR\",\n",
    "              {\n",
    "                \"field\": \"middle_name\",\n",
    "                \"operator\": \"EQ\",\n",
    "                \"value\": True\n",
    "              }\n",
    "        ]\n",
    "  ]\n",
    "  \n",
    "}"
   ]
  },
  {
   "cell_type": "code",
   "execution_count": 28,
   "id": "public-filter",
   "metadata": {},
   "outputs": [],
   "source": [
    "expression = input2[\"expression\"]\n",
    "parameters = {}\n",
    "where_clause = process(expression, parameters)"
   ]
  },
  {
   "cell_type": "code",
   "execution_count": 29,
   "id": "friendly-ancient",
   "metadata": {},
   "outputs": [
    {
     "data": {
      "text/plain": [
       "{'first_name': 'Dixie', 'last_name': 0.1, 'middle_name': True}"
      ]
     },
     "execution_count": 29,
     "metadata": {},
     "output_type": "execute_result"
    }
   ],
   "source": [
    "parameters"
   ]
  },
  {
   "cell_type": "code",
   "execution_count": 30,
   "id": "blessed-relative",
   "metadata": {},
   "outputs": [
    {
     "data": {
      "text/plain": [
       "' ( first_name = :first_name ) OR ( ( last_name != :last_name ) OR ( middle_name = :middle_name ) ) '"
      ]
     },
     "execution_count": 30,
     "metadata": {},
     "output_type": "execute_result"
    }
   ],
   "source": [
    "where_clause"
   ]
  },
  {
   "cell_type": "code",
   "execution_count": null,
   "id": "prescribed-bosnia",
   "metadata": {},
   "outputs": [],
   "source": []
  }
 ],
 "metadata": {
  "kernelspec": {
   "display_name": "Python 3",
   "language": "python",
   "name": "python3"
  },
  "language_info": {
   "codemirror_mode": {
    "name": "ipython",
    "version": 3
   },
   "file_extension": ".py",
   "mimetype": "text/x-python",
   "name": "python",
   "nbconvert_exporter": "python",
   "pygments_lexer": "ipython3",
   "version": "3.8.5"
  }
 },
 "nbformat": 4,
 "nbformat_minor": 5
}
